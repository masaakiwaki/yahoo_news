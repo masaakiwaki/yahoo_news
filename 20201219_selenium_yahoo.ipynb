{
  "nbformat": 4,
  "nbformat_minor": 0,
  "metadata": {
    "colab": {
      "name": "20201219_selenium_yahoo.ipynb",
      "provenance": [],
      "authorship_tag": "ABX9TyMr2I0f2tc/eeOfOUKLTt/c",
      "include_colab_link": true
    },
    "kernelspec": {
      "name": "python3",
      "display_name": "Python 3"
    }
  },
  "cells": [
    {
      "cell_type": "markdown",
      "metadata": {
        "id": "view-in-github",
        "colab_type": "text"
      },
      "source": [
        "<a href=\"https://colab.research.google.com/github/masaakiwaki/yahoo_news/blob/main/20201219_selenium_yahoo.ipynb\" target=\"_parent\"><img src=\"https://colab.research.google.com/assets/colab-badge.svg\" alt=\"Open In Colab\"/></a>"
      ]
    },
    {
      "cell_type": "code",
      "metadata": {
        "id": "7OTE5FTkS87m"
      },
      "source": [
        "# library install\n",
        "!pip install selenium\n",
        "!apt-get update\n",
        "!apt install fonts-ipafont-gothic fonts-ipafont-mincho\n",
        "!apt install chromium-chromedriver\n",
        "!cp /usr/lib/chromium-browser/chromedriver /usr/bin"
      ],
      "execution_count": null,
      "outputs": []
    },
    {
      "cell_type": "code",
      "metadata": {
        "id": "rougmkydWtqA"
      },
      "source": [
        "# library import\r\n",
        "from selenium import webdriver\r\n",
        "from bs4 import BeautifulSoup\r\n",
        "import os.path\r\n",
        "import datetime\r\n",
        "import pytz\r\n",
        "import csv"
      ],
      "execution_count": null,
      "outputs": []
    },
    {
      "cell_type": "code",
      "metadata": {
        "id": "_By2gXUbWt-R"
      },
      "source": [
        "# webdirver config (colaboratory only)\r\n",
        "options = webdriver.ChromeOptions()\r\n",
        "options.add_argument('--headless')\r\n",
        "options.add_argument('--no-sandbox')\r\n",
        "options.add_argument('--disable-dev-shm-usage')\r\n",
        "driver = webdriver.Chrome('chromedriver',options=options)"
      ],
      "execution_count": null,
      "outputs": []
    },
    {
      "cell_type": "code",
      "metadata": {
        "id": "-Pzu-xCEWuCw"
      },
      "source": [
        "# create file_name (now data,time)\r\n",
        "def File_Name(output_name):\r\n",
        "    dt_now = datetime.datetime.now(pytz.timezone('Asia/Tokyo'))\r\n",
        "    fdt_now = dt_now.strftime('%Y%m%d%H%M%S')\r\n",
        "    file_name = os.path.join(os.path.dirname(os.path.abspath('__file__')), (fdt_now + \"_\" + output_name))\r\n",
        "    return file_name"
      ],
      "execution_count": null,
      "outputs": []
    },
    {
      "cell_type": "code",
      "metadata": {
        "id": "EeW5RJKUTCqb"
      },
      "source": [
        "driver.get(\"https://www.yahoo.co.jp/\")"
      ],
      "execution_count": null,
      "outputs": []
    },
    {
      "cell_type": "code",
      "metadata": {
        "id": "KgdNLHtYU4Ys"
      },
      "source": [
        "# screen capture\r\n",
        "page_width = driver.execute_script('return document.body.scrollWidth')\r\n",
        "page_height = driver.execute_script('return document.body.scrollHeight')\r\n",
        "driver.set_window_size(page_width, page_height)\r\n",
        "capture_name = File_Name('screen.png')\r\n",
        "driver.save_screenshot(capture_name)"
      ],
      "execution_count": null,
      "outputs": []
    },
    {
      "cell_type": "code",
      "metadata": {
        "id": "kExJxEGBbMFD"
      },
      "source": [
        "# get HTML\r\n",
        "html = driver.page_source.encode('utf-8')\r\n",
        "soup = BeautifulSoup(html, 'lxml')"
      ],
      "execution_count": null,
      "outputs": []
    },
    {
      "cell_type": "code",
      "metadata": {
        "id": "oDAcmi1Ymmyw"
      },
      "source": [
        "# yahoo news extract\r\n",
        "links = soup.select('a[href^=\"https://news.yahoo.co.jp/pickup/\"]')"
      ],
      "execution_count": null,
      "outputs": []
    },
    {
      "cell_type": "code",
      "metadata": {
        "id": "kt9clNnsUDGH"
      },
      "source": [
        "# news list creale\r\n",
        "news_list = [[\"title\",\"url\"]]\r\n",
        "for link in links:\r\n",
        "  news_url = link.get(\"href\")\r\n",
        "  link = link.select(\"span\")\r\n",
        "  news_title = (link[0].text)\r\n",
        "  news_list.append([news_title,news_url])\r\n",
        "news_list"
      ],
      "execution_count": null,
      "outputs": []
    },
    {
      "cell_type": "code",
      "metadata": {
        "id": "nEqs7R3y01CR"
      },
      "source": [
        "# csv create new file\r\n",
        "csv_name = File_Name('news.csv')\r\n",
        "f = open(csv_name, \"w\")\r\n",
        "writecsv = csv.writer(f, lineterminator='\\n')\r\n",
        "\r\n",
        "# output\r\n",
        "writecsv.writerows(news_list)\r\n",
        "\r\n",
        "# csv create close\r\n",
        "f.close()"
      ],
      "execution_count": null,
      "outputs": []
    }
  ]
}